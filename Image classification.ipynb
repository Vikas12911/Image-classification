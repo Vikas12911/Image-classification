{
  "nbformat": 4,
  "nbformat_minor": 0,
  "metadata": {
    "colab": {
      "name": "Untitled1.ipynb",
      "private_outputs": true,
      "provenance": [],
      "authorship_tag": "ABX9TyNXYVI3kYTEtUqXQAzV2amS",
      "include_colab_link": true
    },
    "kernelspec": {
      "name": "python3",
      "display_name": "Python 3"
    },
    "accelerator": "GPU"
  },
  "cells": [
    {
      "cell_type": "markdown",
      "metadata": {
        "id": "view-in-github",
        "colab_type": "text"
      },
      "source": [
        "<a href=\"https://colab.research.google.com/github/Vikas12911/Image-classification/blob/main/Image%20classification.ipynb\" target=\"_parent\"><img src=\"https://colab.research.google.com/assets/colab-badge.svg\" alt=\"Open In Colab\"/></a>"
      ]
    },
    {
      "cell_type": "code",
      "metadata": {
        "id": "cHRhhugBfQ78"
      },
      "source": [
        "import os\r\n",
        "import torch\r\n",
        "import torchvision\r\n",
        "import tarfile\r\n",
        "from torchvision.datasets.utils import download_url\r\n",
        "from torch.utils.data import random_split\r\n",
        "\r\n",
        "dataset_url = \"https://s3.amazonaws.com/fast-ai-imageclas/cifar10.tgz\"\r\n",
        "download_url(dataset_url, '.')"
      ],
      "execution_count": null,
      "outputs": []
    },
    {
      "cell_type": "code",
      "metadata": {
        "id": "mnqcWCMKfk1D"
      },
      "source": [
        "with tarfile.open('./cifar10.tgz', 'r:gz') as tar:\r\n",
        "    tar.extractall(path='./data')"
      ],
      "execution_count": null,
      "outputs": []
    },
    {
      "cell_type": "code",
      "metadata": {
        "id": "FMlCQO87zRU3"
      },
      "source": [
        "data_dir=\"./data/cifar10\"\r\n",
        "print(os.listdir(data_dir))\r\n",
        "print(os.listdir(data_dir+\"/train\"))\r\n",
        "airplane_files=os.listdir(data_dir+\"/train/airplane\")\r\n",
        "print(\"No. of training examples for airplanes:\",len(airplane_files))\r\n",
        "print(airplane_files[:5])\r\n",
        "from torchvision.datasets import ImageFolder\r\n",
        "from torchvision.transforms import ToTensor\r\n",
        "dataset=ImageFolder(data_dir+\"/train\",transform=ToTensor())\r\n",
        "random_seed=42\r\n",
        "torch.manual_seed(random_seed)"
      ],
      "execution_count": null,
      "outputs": []
    },
    {
      "cell_type": "code",
      "metadata": {
        "id": "QOtlM71VyxM_"
      },
      "source": [
        "val_size=5000\r\n",
        "train_size=len(dataset)-val_size\r\n",
        "\r\n",
        "train_ds,val_ds=random_split(dataset,[train_size,val_size])\r\n",
        "len(train_ds),len(val_ds)"
      ],
      "execution_count": null,
      "outputs": []
    },
    {
      "cell_type": "code",
      "metadata": {
        "id": "7lrVoteXzwR4"
      },
      "source": [
        "from torch.utils.data.dataloader import DataLoader\r\n",
        "batch_size=128"
      ],
      "execution_count": null,
      "outputs": []
    },
    {
      "cell_type": "code",
      "metadata": {
        "id": "LlSPH2Tkzzyu"
      },
      "source": [
        "train_dl=DataLoader(train_ds,batch_size,shuffle=True,num_workers=4,pin_memory=True)\r\n",
        "val_dl=DataLoader(val_ds,batch_size*2,num_workers=4,pin_memory=True)"
      ],
      "execution_count": null,
      "outputs": []
    },
    {
      "cell_type": "code",
      "metadata": {
        "id": "fQ0RZmzwz2fQ"
      },
      "source": [
        "import torch.nn as nn\r\n",
        "import torch.nn.functional as F\r\n",
        "simple_model = nn.Sequential(\r\n",
        "    nn.Conv2d(3, 8, kernel_size=3, stride=1, padding=1),\r\n",
        "    nn.MaxPool2d(2, 2)\r\n",
        ")\r\n",
        "\r\n",
        "class ImageClassificationBase(nn.Module):\r\n",
        "    def training_step(self, batch):\r\n",
        "        images, labels = batch \r\n",
        "        out = self(images)                  # Generate predictions\r\n",
        "        loss = F.cross_entropy(out, labels) # Calculate loss\r\n",
        "        return loss\r\n",
        "    \r\n",
        "    def validation_step(self, batch):\r\n",
        "        images, labels = batch \r\n",
        "        out = self(images)                    # Generate predictions\r\n",
        "        loss = F.cross_entropy(out, labels)   # Calculate loss\r\n",
        "        acc = accuracy(out, labels)           # Calculate accuracy\r\n",
        "        return {'val_loss': loss.detach(), 'val_acc': acc}\r\n",
        "        \r\n",
        "    def validation_epoch_end(self, outputs):\r\n",
        "        batch_losses = [x['val_loss'] for x in outputs]\r\n",
        "        epoch_loss = torch.stack(batch_losses).mean()   # Combine losses\r\n",
        "        batch_accs = [x['val_acc'] for x in outputs]\r\n",
        "        epoch_acc = torch.stack(batch_accs).mean()      # Combine accuracies\r\n",
        "        return {'val_loss': epoch_loss.item(), 'val_acc': epoch_acc.item()}\r\n",
        "    \r\n",
        "    def epoch_end(self, epoch, result):\r\n",
        "        print(\"Epoch [{}], train_loss: {:.4f}, val_loss: {:.4f}, val_acc: {:.4f}\".format(\r\n",
        "            epoch, result['train_loss'], result['val_loss'], result['val_acc']))\r\n",
        "        \r\n",
        "def accuracy(outputs, labels):\r\n",
        "    _, preds = torch.max(outputs, dim=1)\r\n",
        "    return torch.tensor(torch.sum(preds == labels).item() / len(preds))\r\n",
        "\r\n",
        "class Cifar10CnnModel(ImageClassificationBase):\r\n",
        "    def __init__(self):\r\n",
        "        super().__init__()\r\n",
        "        self.network = nn.Sequential(\r\n",
        "            nn.Conv2d(3, 32, kernel_size=3, padding=1),\r\n",
        "            nn.ReLU(),\r\n",
        "            nn.Conv2d(32, 64, kernel_size=3, stride=1, padding=1),\r\n",
        "            nn.ReLU(),\r\n",
        "            nn.MaxPool2d(2, 2), # output: 64 x 16 x 16\r\n",
        "\r\n",
        "            nn.Conv2d(64, 128, kernel_size=3, stride=1, padding=1),\r\n",
        "            nn.ReLU(),\r\n",
        "            nn.Conv2d(128, 128, kernel_size=3, stride=1, padding=1),\r\n",
        "            nn.ReLU(),\r\n",
        "            nn.MaxPool2d(2, 2), # output: 128 x 8 x 8\r\n",
        "\r\n",
        "            nn.Conv2d(128, 256, kernel_size=3, stride=1, padding=1),\r\n",
        "            nn.ReLU(),\r\n",
        "            nn.Conv2d(256, 256, kernel_size=3, stride=1, padding=1),\r\n",
        "            nn.ReLU(),\r\n",
        "            nn.MaxPool2d(2, 2), # output: 256 x 4 x 4\r\n",
        "\r\n",
        "            nn.Flatten(), \r\n",
        "            nn.Linear(256*4*4, 1024),\r\n",
        "            nn.ReLU(),\r\n",
        "            nn.Linear(1024, 512),\r\n",
        "            nn.ReLU(),\r\n",
        "            nn.Linear(512, 10))\r\n",
        "        \r\n",
        "    def forward(self, xb):\r\n",
        "        return self.network(xb)"
      ],
      "execution_count": null,
      "outputs": []
    },
    {
      "cell_type": "code",
      "metadata": {
        "id": "UujZwpPv0ayo"
      },
      "source": [
        "model = Cifar10CnnModel()\r\n",
        "model"
      ],
      "execution_count": null,
      "outputs": []
    },
    {
      "cell_type": "code",
      "metadata": {
        "id": "0ach6A1x0cHU"
      },
      "source": [
        "def get_default_device():\r\n",
        "    \"\"\"Pick GPU if available, else CPU\"\"\"\r\n",
        "    if torch.cuda.is_available():\r\n",
        "        return torch.device('cuda')\r\n",
        "    else:\r\n",
        "        return torch.device('cpu')\r\n",
        "    \r\n",
        "def to_device(data, device):\r\n",
        "    \"\"\"Move tensor(s) to chosen device\"\"\"\r\n",
        "    if isinstance(data, (list,tuple)):\r\n",
        "        return [to_device(x, device) for x in data]\r\n",
        "    return data.to(device, non_blocking=True)\r\n",
        "\r\n",
        "class DeviceDataLoader():\r\n",
        "    \"\"\"Wrap a dataloader to move data to a device\"\"\"\r\n",
        "    def __init__(self, dl, device):\r\n",
        "        self.dl = dl\r\n",
        "        self.device = device\r\n",
        "        \r\n",
        "    def __iter__(self):\r\n",
        "        \"\"\"Yield a batch of data after moving it to device\"\"\"\r\n",
        "        for b in self.dl: \r\n",
        "            yield to_device(b, self.device)\r\n",
        "\r\n",
        "    def __len__(self):\r\n",
        "        \"\"\"Number of batches\"\"\"\r\n",
        "        return len(self.dl)"
      ],
      "execution_count": null,
      "outputs": []
    },
    {
      "cell_type": "code",
      "metadata": {
        "id": "X1kmIAgO0hBX"
      },
      "source": [
        "device = get_default_device()\r\n",
        "device\r\n"
      ],
      "execution_count": null,
      "outputs": []
    },
    {
      "cell_type": "code",
      "metadata": {
        "id": "5_oBQw1X0nqp"
      },
      "source": [
        "train_dl = DeviceDataLoader(train_dl, device)\r\n",
        "val_dl = DeviceDataLoader(val_dl, device)\r\n",
        "to_device(model, device);"
      ],
      "execution_count": null,
      "outputs": []
    },
    {
      "cell_type": "code",
      "metadata": {
        "id": "aUDAjmQC0pFW"
      },
      "source": [
        "@torch.no_grad()\r\n",
        "def evaluate(model, val_loader):\r\n",
        "    model.eval()\r\n",
        "    outputs = [model.validation_step(batch) for batch in val_loader]\r\n",
        "    return model.validation_epoch_end(outputs)\r\n",
        "\r\n",
        "def fit(epochs, lr, model, train_loader, val_loader, opt_func=torch.optim.SGD):\r\n",
        "    history = []\r\n",
        "    optimizer = opt_func(model.parameters(), lr)\r\n",
        "    for epoch in range(epochs):\r\n",
        "        # Training Phase \r\n",
        "        model.train()\r\n",
        "        train_losses = []\r\n",
        "        for batch in train_loader:\r\n",
        "            loss = model.training_step(batch)\r\n",
        "            train_losses.append(loss)\r\n",
        "            loss.backward()\r\n",
        "            optimizer.step()\r\n",
        "            optimizer.zero_grad()\r\n",
        "        # Validation phase\r\n",
        "        result = evaluate(model, val_loader)\r\n",
        "        result['train_loss'] = torch.stack(train_losses).mean().item()\r\n",
        "        model.epoch_end(epoch, result)\r\n",
        "        history.append(result)\r\n",
        "    return history"
      ],
      "execution_count": null,
      "outputs": []
    },
    {
      "cell_type": "code",
      "metadata": {
        "id": "aKzYIpsb0tKO"
      },
      "source": [
        "model = to_device(Cifar10CnnModel(), device)"
      ],
      "execution_count": null,
      "outputs": []
    },
    {
      "cell_type": "code",
      "metadata": {
        "id": "SRl5dU470yiW"
      },
      "source": [
        "evaluate(model, val_dl)"
      ],
      "execution_count": null,
      "outputs": []
    },
    {
      "cell_type": "code",
      "metadata": {
        "id": "UNOzGZS_02S0"
      },
      "source": [
        "num_epochs = 10\r\n",
        "opt_func = torch.optim.Adam\r\n",
        "lr = 0.001"
      ],
      "execution_count": null,
      "outputs": []
    },
    {
      "cell_type": "code",
      "metadata": {
        "id": "UoWmOpoK05tT"
      },
      "source": [
        "history = fit(num_epochs, lr, model, train_dl, val_dl, opt_func)"
      ],
      "execution_count": null,
      "outputs": []
    },
    {
      "cell_type": "code",
      "metadata": {
        "id": "vf9o9NyM08nh"
      },
      "source": [
        "import matplotlib.pyplot as plt\r\n",
        "def plot_losses(history):\r\n",
        "    train_losses = [x.get('train_loss') for x in history]\r\n",
        "    val_losses = [x['val_loss'] for x in history]\r\n",
        "    plt.plot(train_losses, '-bx')\r\n",
        "    plt.plot(val_losses, '-rx')\r\n",
        "    plt.xlabel('epoch')\r\n",
        "    plt.ylabel('loss')\r\n",
        "    plt.legend(['Training', 'Validation'])\r\n",
        "    plt.title('Loss vs. No. of epochs');\r\n",
        "\r\n",
        "plot_losses(history)"
      ],
      "execution_count": null,
      "outputs": []
    }
  ]
}